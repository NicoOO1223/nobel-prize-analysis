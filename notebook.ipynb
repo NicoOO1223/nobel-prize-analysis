{
 "cells": [
  {
   "cell_type": "code",
   "execution_count": null,
   "id": "99777e3f",
   "metadata": {},
   "outputs": [],
   "source": [
    "import pandas as pd\n",
    "import seaborn as sns\n",
    "import numpy as np\n",
    "\n",
    "df = pd.read_csv('data/nobel.csv')\n",
    "top_gender = df['sex'].value_counts().index[0]\n",
    "top_country = df['birth_country'].value_counts().index[0]\n",
    "\n",
    "df['decade'] = (df['year'] // 10) * 10\n",
    "winners_by_decade_count = df.groupby('decade').size()\n",
    "usa_by_decade = df[df['birth_country']=='United States of America'].groupby('decade').size()\n",
    "percentage_usa = usa_by_decade / winners_by_decade_count\n",
    "max_decade_usa = percentage_usa.sort_values(ascending=False).index[0]\n"
   ]
  },
  {
   "cell_type": "code",
   "execution_count": null,
   "id": "67a5166f",
   "metadata": {},
   "outputs": [],
   "source": [
    "woman_by_decade = df[df['sex']=='Female'].groupby(['decade', 'category']).size()\n",
    "total_count = df.groupby(['decade', 'category']).size()\n",
    "prop_woman = (woman_by_decade / total_count).sort_values(ascending=False)\n",
    "max_female_dict = {prop_woman.index[0][0]: prop_woman.index[0][1]}\n",
    "first_woman_name = df[df['sex']=='Female']['full_name'].values[0]\n",
    "first_woman_category = df[df['sex']=='Female']['category'].values[0]"
   ]
  },
  {
   "cell_type": "code",
   "execution_count": null,
   "id": "a6f4477d",
   "metadata": {},
   "outputs": [],
   "source": [
    "prize_counts = df.groupby('full_name')['prize'].count()\n",
    "filtered = prize_counts[prize_counts > 1]\n",
    "repeat_list = []\n",
    "for name in filtered.index:\n",
    "    repeat_list.append(name)\n",
    "print(repeat_list)"
   ]
  }
 ],
 "metadata": {
  "language_info": {
   "name": "python"
  }
 },
 "nbformat": 4,
 "nbformat_minor": 5
}
